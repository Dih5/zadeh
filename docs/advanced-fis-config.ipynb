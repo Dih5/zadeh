{
 "cells": [
  {
   "cell_type": "markdown",
   "metadata": {},
   "source": [
    "# Advanced FIS configuration"
   ]
  },
  {
   "cell_type": "markdown",
   "metadata": {},
   "source": [
    "This document summarizes the advanced configuration options available for Fuzzy Inference Systems.\n",
    "\n",
    "For a general background on the components of Fuzzy Inference Systems, you can check out MatWorks's documentation at https://www.mathworks.com/help/fuzzy/fuzzy-inference-process.html"
   ]
  },
  {
   "cell_type": "code",
   "execution_count": 1,
   "metadata": {},
   "outputs": [],
   "source": [
    "import zadeh\n",
    "import matplotlib.pyplot as plt"
   ]
  },
  {
   "cell_type": "markdown",
   "metadata": {},
   "source": [
    "## Logical operators"
   ]
  },
  {
   "cell_type": "markdown",
   "metadata": {},
   "source": [
    "The current version of zadeh supports only the most common definitions for the logical operators. In terms of membership funtion values:\n",
    "\n",
    "| Python notation | Logical notation | Interpretation  |\n",
    "|-----------------|------------------|-----------------|\n",
    "| ~X              | NOT X            | x: 1-x          |\n",
    "| X\\|Y            | X OR Y           | x, y: max(x, y) |\n",
    "| X&Y             | X AND Y          | x, y: min(x, y) |"
   ]
  },
  {
   "cell_type": "markdown",
   "metadata": {},
   "source": [
    "## Implication"
   ]
  },
  {
   "cell_type": "markdown",
   "metadata": {},
   "source": [
    "The current version of zadeh supports only the most common definitions for the logical implication output. In terms of membership funtion values:\n",
    "\n",
    "| Python notation | Logical notation | Interpretation  |\n",
    "|-----------------|------------------|-----------------|\n",
    "| X >> Y          | X -> Y           | x, y: min(x, y) |"
   ]
  },
  {
   "cell_type": "markdown",
   "metadata": {},
   "source": [
    "## Aggregation"
   ]
  },
  {
   "cell_type": "markdown",
   "metadata": {},
   "source": [
    "The current version of zadeh supports only the most common aggregation method for multiple rules, which the usage of the maximum function\n",
    "\n",
    "| Python notation | Logical notation | Interpretation       |\n",
    "|-----------------|------------------|----------------------|\n",
    "| [X, Y, ...]     | {X, Y, ...}      | x, y, ...: max(x, y) |"
   ]
  },
  {
   "cell_type": "markdown",
   "metadata": {},
   "source": [
    "## Defuzzification "
   ]
  },
  {
   "cell_type": "markdown",
   "metadata": {},
   "source": [
    "Defuzzification is the last stage of the Fuzzy Inference System, where the fuzzy output is mapped into a crisp output using one of the available procedures. Available options are:\n",
    "\n",
    "- **centroid**: Analog to the center of mass.\n",
    "- **bisector**: Value separating two portions of equal area under the membership function.\n",
    "- **mom** (middle of maximum): Middle (median) of the set of values whose images are the maximum of the membership function.\n",
    "- **som** (smaller of maximum): Smaller (min) of the set of values whose images are the maximum of the membership function.\n",
    "- **mom** (middle of maximum): Largest (max) of the set of values whose images are the maximum of the membership function.\n"
   ]
  },
  {
   "cell_type": "markdown",
   "metadata": {},
   "source": [
    "The following plot illustrates the different methods using a custom Fuzzy Set, matching the one from \n",
    "https://www.mathworks.com/help/fuzzy/defuzzification-methods.html"
   ]
  },
  {
   "cell_type": "code",
   "execution_count": 2,
   "metadata": {},
   "outputs": [
    {
     "data": {
      "image/png": "[encoded data removed]",
      "text/plain": [
       "<Figure size 432x288 with 1 Axes>"
      ]
     },
     "metadata": {
      "needs_background": "light"
     },
     "output_type": "display_data"
    }
   ],
   "source": [
    "test = zadeh.FuzzyVariable(\n",
    "    zadeh.FloatDomain(\"test\", 0, 20, 100),\n",
    "    {\n",
    "        \"membership\": 0.8 * zadeh.TrapezoidalFuzzySet(0, 2, 8, 12)\n",
    "        | 0.5 * zadeh.TrapezoidalFuzzySet(5, 7, 12, 14)\n",
    "        | 0.1 * zadeh.TrapezoidalFuzzySet(12, 13, 18, 19),\n",
    "    },\n",
    ")\n",
    "test.plot()\n",
    "lims=plt.ylim()\n",
    "plt.vlines(test.domain.centroid(test.values[\"membership\"]), *lims, color=\"r\", ls=\"--\", label=\"centroid\")\n",
    "plt.vlines(test.domain.bisector(test.values[\"membership\"]), *lims, color=\"g\", ls=\"-.\", label=\"bisector\")\n",
    "plt.vlines(test.domain.som(test.values[\"membership\"]), *lims, color=\"gray\", ls=\"-\", label=\"som\")\n",
    "plt.vlines(test.domain.mom(test.values[\"membership\"]), *lims, color=\"gray\", ls=\"--\", label=\"mom\")\n",
    "plt.vlines(test.domain.lom(test.values[\"membership\"]), *lims, color=\"gray\", ls=\"-\", label=\"lom\")\n",
    "plt.legend()\n",
    "\n",
    "plt.show()"
   ]
  },
  {
   "cell_type": "markdown",
   "metadata": {},
   "source": [
    "To set any of this methods in a FIS, just use the defuzzification kwargs in its construction."
   ]
  },
  {
   "cell_type": "code",
   "execution_count": null,
   "metadata": {},
   "outputs": [],
   "source": []
  }
 ],
 "metadata": {
  "kernelspec": {
   "display_name": "Python 3",
   "language": "python",
   "name": "python3"
  },
  "language_info": {
   "codemirror_mode": {
    "name": "ipython",
    "version": 3
   },
   "file_extension": ".py",
   "mimetype": "text/x-python",
   "name": "python",
   "nbconvert_exporter": "python",
   "pygments_lexer": "ipython3",
   "version": "3.8.5"
  }
 },
 "nbformat": 4,
 "nbformat_minor": 4
}
