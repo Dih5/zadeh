{
 "cells": [
  {
   "cell_type": "markdown",
   "metadata": {},
   "source": [
    "# Advanced usage"
   ]
  },
  {
   "cell_type": "markdown",
   "metadata": {},
   "source": [
    "This document illustrates some advance aspects of the package."
   ]
  },
  {
   "cell_type": "code",
   "execution_count": 1,
   "metadata": {},
   "outputs": [],
   "source": [
    "import zadeh"
   ]
  },
  {
   "cell_type": "code",
   "execution_count": 2,
   "metadata": {},
   "outputs": [],
   "source": [
    "# Build a demo\n",
    "service = zadeh.FuzzyVariable(\n",
    "    zadeh.FloatDomain(\"service\", 0, 10, 100),\n",
    "    {\n",
    "        \"poor\": zadeh.GaussianFuzzySet(1.5, 0),\n",
    "        \"good\": zadeh.GaussianFuzzySet(1.5, 5),\n",
    "        \"excellent\": zadeh.GaussianFuzzySet(1.5, 10),\n",
    "    },\n",
    ")\n",
    "food = zadeh.FuzzyVariable(\n",
    "    zadeh.FloatDomain(\"food\", 0, 10, 100),\n",
    "    {\n",
    "        \"rancid\": zadeh.TrapezoidalFuzzySet(-2, 0, 1, 3),\n",
    "        \"delicious\": zadeh.TrapezoidalFuzzySet(7, 9, 10, 12),\n",
    "    },\n",
    ")\n",
    "tip = zadeh.FuzzyVariable(\n",
    "    zadeh.FloatDomain(\"tip\", 0, 30, 100),\n",
    "    {\n",
    "        \"cheap\": zadeh.TriangularFuzzySet(0, 5, 10),\n",
    "        \"average\": zadeh.TriangularFuzzySet(10, 15, 20),\n",
    "        \"generous\": zadeh.TriangularFuzzySet(20, 25, 30),\n",
    "    },\n",
    ")\n",
    "rule_set = [\n",
    "    ((service == \"poor\") | (food == \"rancid\")) >> (tip == \"cheap\"),\n",
    "    (service == \"good\") >> (tip == \"average\"),\n",
    "    ((service == \"excellent\") | (food == \"delicious\")) >> (tip == \"generous\"),\n",
    "]\n",
    "fis = zadeh.FIS([food, service], rule_set, tip)"
   ]
  },
  {
   "cell_type": "markdown",
   "metadata": {},
   "source": [
    "## Compiling models"
   ]
  },
  {
   "cell_type": "markdown",
   "metadata": {},
   "source": [
    "If you have the gcc compiler available in your system, you can automatically fast, compiled versions of them. The outline of the procedure is following:\n",
    "\n",
    "- C code for the system is generated.\n",
    "- The code is compiled into a dynamic library.\n",
    "- The library is linked and interfaced in Python.\n",
    "- A FIS subclass allows its usage.\n",
    "\n",
    "To do all of this, just call the compile method of an existing FIS:"
   ]
  },
  {
   "cell_type": "code",
   "execution_count": 3,
   "metadata": {},
   "outputs": [],
   "source": [
    "fisc=fis.compile()"
   ]
  },
  {
   "cell_type": "markdown",
   "metadata": {},
   "source": [
    "The time improvement can be checked below:"
   ]
  },
  {
   "cell_type": "code",
   "execution_count": 4,
   "metadata": {},
   "outputs": [
    {
     "name": "stdout",
     "output_type": "stream",
     "text": [
      "643 µs ± 7.15 µs per loop (mean ± std. dev. of 7 runs, 1000 loops each)\n"
     ]
    }
   ],
   "source": [
    "%%timeit\n",
    "fis.get_crisp_output({\"food\": 0, \"service\": 8})"
   ]
  },
  {
   "cell_type": "code",
   "execution_count": 5,
   "metadata": {},
   "outputs": [
    {
     "name": "stdout",
     "output_type": "stream",
     "text": [
      "6.63 µs ± 15.4 ns per loop (mean ± std. dev. of 7 runs, 100000 loops each)\n"
     ]
    }
   ],
   "source": [
    "%%timeit\n",
    "fisc.get_crisp_output({\"food\": 0, \"service\": 8})"
   ]
  },
  {
   "cell_type": "markdown",
   "metadata": {},
   "source": [
    "The difference might increase in more complex systems, so its worth considering. However, user-defined functions cannot be automatically converted into C code."
   ]
  },
  {
   "cell_type": "markdown",
   "metadata": {},
   "source": [
    "## Saving and loading models"
   ]
  },
  {
   "cell_type": "markdown",
   "metadata": {},
   "source": [
    "Models can be saved and loaded using a json format"
   ]
  },
  {
   "cell_type": "code",
   "execution_count": 6,
   "metadata": {},
   "outputs": [],
   "source": [
    "fis.save(\"/tmp/mymodel.zadeh\")"
   ]
  },
  {
   "cell_type": "code",
   "execution_count": 7,
   "metadata": {},
   "outputs": [
    {
     "name": "stdout",
     "output_type": "stream",
     "text": [
      "{\"variables\": [{\"name\": \"food\", \"values\": {\"rancid\": {\"type\": \"trapezoidal\", \"a\": -2.0, \"b\": 0.0, \"c\": 1.0, \"d\": 3.0}, \"delicious\": {\"type\": \"trapezoidal\", \"a\": 7.0, \"b\": 9.0, \"c\": 10.0, \"d\": 12.0}}, \"domain\": {\"type\": \"FloatDomain\", \"name\": \"food\", \"min\": 0, \"max\": 10, \"steps\": 100}}, {\"name\": \"service\", \"values\": {\"poor\": {\"type\": \"gaussian\", \"s\": 1.5, \"a\": 0}, \"good\": {\"type\": \"gaussian\", \"s\": 1.5, \"a\": 5}, \"excellent\": {\"type\": \"gaussian\", \"s\": 1.5, \"a\": 10}}, \"domain\": {\"type\": \"FloatDomain\", \"name\": \"service\", \"min\": 0, \"max\": 10, \"steps\": 100}}], \"rules\": {\"rule_list\": [{\"antecedent\": {\"type\": \"or\", \"children\": [{\"type\": \"is\", \"variable\": \"service\", \"value\": \"poor\"}, {\"type\": \"is\", \"variable\": \"food\", \"value\": \"rancid\"}]}, \"consequent\": {\"type\": \"is\", \"variable\": \"tip\", \"value\": \"cheap\"}, \"weight\": 1.0}, {\"antecedent\": {\"type\": \"is\", \"variable\": \"service\", \"value\": \"good\"}, \"consequent\": {\"type\": \"is\", \"variable\": \"tip\", \"value\": \"average\"}, \"weight\": 1.0}, {\"antecedent\": {\"type\": \"or\", \"children\": [{\"type\": \"is\", \"variable\": \"service\", \"value\": \"excellent\"}, {\"type\": \"is\", \"variable\": \"food\", \"value\": \"delicious\"}]}, \"consequent\": {\"type\": \"is\", \"variable\": \"tip\", \"value\": \"generous\"}, \"weight\": 1.0}]}, \"target\": {\"name\": \"tip\", \"values\": {\"cheap\": {\"type\": \"triangular\", \"a\": 0.0, \"b\": 5.0, \"c\": 10.0}, \"average\": {\"type\": \"triangular\", \"a\": 10.0, \"b\": 15.0, \"c\": 20.0}, \"generous\": {\"type\": \"triangular\", \"a\": 20.0, \"b\": 25.0, \"c\": 30.0}}, \"domain\": {\"type\": \"FloatDomain\", \"name\": \"tip\", \"min\": 0, \"max\": 30, \"steps\": 100}}, \"defuzzification\": \"centroid\"}"
     ]
    }
   ],
   "source": [
    "!cat /tmp/mymodel.zadeh"
   ]
  },
  {
   "cell_type": "code",
   "execution_count": 8,
   "metadata": {},
   "outputs": [],
   "source": [
    "fis2=zadeh.FIS.load(\"/tmp/mymodel.zadeh\")"
   ]
  },
  {
   "cell_type": "markdown",
   "metadata": {},
   "source": [
    "## Importing models from MATLAB files"
   ]
  },
  {
   "cell_type": "markdown",
   "metadata": {},
   "source": [
    "MATLAB .fis models can be imported into zadeh, with limited support at the moment of writing."
   ]
  },
  {
   "cell_type": "code",
   "execution_count": 9,
   "metadata": {},
   "outputs": [
    {
     "name": "stdout",
     "output_type": "stream",
     "text": [
      "% $Revision: 1.1 $\r\n",
      "[System]\r\n",
      "Name='tipper'\r\n",
      "Type='mamdani'\r\n",
      "NumInputs=2\r\n",
      "NumOutputs=1\r\n",
      "NumRules=3\r\n",
      "AndMethod='min'\r\n",
      "OrMethod='max'\r\n",
      "ImpMethod='min'\r\n",
      "AggMethod='max'\r\n",
      "DefuzzMethod='centroid'\r\n",
      "\r\n",
      "[Input1]\r\n",
      "Name='service'\r\n",
      "Range=[0 10]\r\n",
      "NumMFs=3\r\n",
      "MF1='poor':'gaussmf',[1.5 0]\r\n",
      "MF2='good':'gaussmf',[1.5 5]\r\n",
      "MF3='excellent':'gaussmf',[1.5 10]\r\n",
      "\r\n",
      "[Input2]\r\n",
      "Name='food'\r\n",
      "Range=[0 10]\r\n",
      "NumMFs=2\r\n",
      "MF1='rancid':'trapmf',[0 0 1 3]\r\n",
      "MF2='delicious':'trapmf',[7 9 10 10]\r\n",
      "\r\n",
      "[Output1]\r\n",
      "Name='tip'\r\n",
      "Range=[0 30]\r\n",
      "NumMFs=3\r\n",
      "MF1='cheap':'trimf',[0 5 10]\r\n",
      "MF2='average':'trimf',[10 15 20]\r\n",
      "MF3='generous':'trimf',[20 25 30]\r\n",
      "\r\n",
      "[Rules]\r\n",
      "1 1, 1 (1) : 2 \r\n",
      "2 0, 2 (1) : 1 \r\n",
      "3 2, 3 (1) : 2  \r\n"
     ]
    }
   ],
   "source": [
    "!cat ../tests/data/tipper.fis"
   ]
  },
  {
   "cell_type": "code",
   "execution_count": 10,
   "metadata": {},
   "outputs": [
    {
     "data": {
      "text/plain": [
       "FuzzyRuleSet<if ((service is poor) or (food is rancid)) then (tip is cheap) [1.000000]\n",
       "if ((service is good) and (food is not delicious)) then (tip is average) [1.000000]\n",
       "if ((service is excellent) or (food is delicious)) then (tip is generous) [1.000000]>"
      ]
     },
     "execution_count": 10,
     "metadata": {},
     "output_type": "execute_result"
    }
   ],
   "source": [
    "fis3=zadeh.FIS.from_matlab(\"../tests/data/tipper.fis\")\n",
    "fis3.rules"
   ]
  },
  {
   "cell_type": "markdown",
   "metadata": {},
   "source": [
    "## Serving models"
   ]
  },
  {
   "cell_type": "markdown",
   "metadata": {},
   "source": [
    "Created models can be served using a Flask server."
   ]
  },
  {
   "cell_type": "markdown",
   "metadata": {},
   "source": [
    "Consider the following example for model deployment"
   ]
  },
  {
   "cell_type": "code",
   "execution_count": 11,
   "metadata": {},
   "outputs": [],
   "source": [
    "from zadeh import server\n",
    "fis_flask = server.FISFlask(\"myserver\", fis)\n",
    "app = fis_flask.app\n",
    "\n",
    "# This app object can be used to deploy the model\n",
    "# For example, to run a development server:\n",
    "# app.run(debug=False, host='0.0.0.0')\n",
    "# The object can be provied to middleware such as gunicorn for production deployment"
   ]
  },
  {
   "cell_type": "code",
   "execution_count": null,
   "metadata": {},
   "outputs": [],
   "source": []
  }
 ],
 "metadata": {
  "kernelspec": {
   "display_name": "Python 3",
   "language": "python",
   "name": "python3"
  },
  "language_info": {
   "codemirror_mode": {
    "name": "ipython",
    "version": 3
   },
   "file_extension": ".py",
   "mimetype": "text/x-python",
   "name": "python",
   "nbconvert_exporter": "python",
   "pygments_lexer": "ipython3",
   "version": "3.8.5"
  }
 },
 "nbformat": 4,
 "nbformat_minor": 4
}
